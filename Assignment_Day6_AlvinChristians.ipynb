{
  "nbformat": 4,
  "nbformat_minor": 0,
  "metadata": {
    "colab": {
      "provenance": [],
      "collapsed_sections": [
        "DiL5LTpXhS6W",
        "CYt3VFoYh6Ua",
        "_cJ-ndxKidHs",
        "cCOKZ6EAi42K"
      ],
      "toc_visible": true
    },
    "kernelspec": {
      "name": "python3",
      "display_name": "Python 3"
    },
    "language_info": {
      "name": "python"
    }
  },
  "cells": [
    {
      "cell_type": "markdown",
      "source": [
        "# Preparing"
      ],
      "metadata": {
        "id": "DiL5LTpXhS6W"
      }
    },
    {
      "cell_type": "code",
      "source": [
        "!pip install pyspark"
      ],
      "metadata": {
        "colab": {
          "base_uri": "https://localhost:8080/"
        },
        "id": "2HP9ByDVhhig",
        "outputId": "20f71bc2-6fc1-4664-deb3-d8c5d62633ed"
      },
      "execution_count": 2,
      "outputs": [
        {
          "output_type": "stream",
          "name": "stdout",
          "text": [
            "Collecting pyspark\n",
            "  Downloading pyspark-3.5.2.tar.gz (317.3 MB)\n",
            "\u001b[2K     \u001b[90m━━━━━━━━━━━━━━━━━━━━━━━━━━━━━━━━━━━━━━━━\u001b[0m \u001b[32m317.3/317.3 MB\u001b[0m \u001b[31m4.5 MB/s\u001b[0m eta \u001b[36m0:00:00\u001b[0m\n",
            "\u001b[?25h  Preparing metadata (setup.py) ... \u001b[?25l\u001b[?25hdone\n",
            "Requirement already satisfied: py4j==0.10.9.7 in /usr/local/lib/python3.10/dist-packages (from pyspark) (0.10.9.7)\n",
            "Building wheels for collected packages: pyspark\n",
            "  Building wheel for pyspark (setup.py) ... \u001b[?25l\u001b[?25hdone\n",
            "  Created wheel for pyspark: filename=pyspark-3.5.2-py2.py3-none-any.whl size=317812365 sha256=5d92501d2c318973b4ca07591ff9cacb2f17be62c4383a4d10e6983d73f1ffbe\n",
            "  Stored in directory: /root/.cache/pip/wheels/34/34/bd/03944534c44b677cd5859f248090daa9fb27b3c8f8e5f49574\n",
            "Successfully built pyspark\n",
            "Installing collected packages: pyspark\n",
            "Successfully installed pyspark-3.5.2\n"
          ]
        }
      ]
    },
    {
      "cell_type": "code",
      "source": [
        "from pyspark import SparkContext, SparkConf\n",
        "\n",
        "conf = SparkConf().setAppName('assignment_dibimbing').setMaster('local[*]')\n",
        "sc = SparkContext.getOrCreate(conf=conf)\n",
        "sc"
      ],
      "metadata": {
        "colab": {
          "base_uri": "https://localhost:8080/",
          "height": 0
        },
        "id": "XhJAAGQxhlB1",
        "outputId": "c3afbd59-fc11-4c97-fe81-dbf65692796c"
      },
      "execution_count": 3,
      "outputs": [
        {
          "output_type": "execute_result",
          "data": {
            "text/plain": [
              "<SparkContext master=local[*] appName=assignment_dibimbing>"
            ],
            "text/html": [
              "\n",
              "        <div>\n",
              "            <p><b>SparkContext</b></p>\n",
              "\n",
              "            <p><a href=\"http://7a900f87435d:4040\">Spark UI</a></p>\n",
              "\n",
              "            <dl>\n",
              "              <dt>Version</dt>\n",
              "                <dd><code>v3.5.2</code></dd>\n",
              "              <dt>Master</dt>\n",
              "                <dd><code>local[*]</code></dd>\n",
              "              <dt>AppName</dt>\n",
              "                <dd><code>assignment_dibimbing</code></dd>\n",
              "            </dl>\n",
              "        </div>\n",
              "        "
            ]
          },
          "metadata": {},
          "execution_count": 3
        }
      ]
    },
    {
      "cell_type": "code",
      "source": [
        "from google.colab import drive\n",
        "drive.mount('/content/drive')"
      ],
      "metadata": {
        "id": "Kodi4cJPhmr2"
      },
      "execution_count": null,
      "outputs": []
    },
    {
      "cell_type": "code",
      "source": [
        "import numpy as np\n",
        "import pandas as pd\n",
        "import seaborn as sns\n",
        "import matplotlib.pyplot as plt"
      ],
      "metadata": {
        "id": "UOMjc3J-homV"
      },
      "execution_count": null,
      "outputs": []
    },
    {
      "cell_type": "code",
      "source": [
        "data = pd.read_csv('/content/drive/MyDrive/Data Enginner/Day 6/diabetes.csv')"
      ],
      "metadata": {
        "id": "rFE3jVYphrvx"
      },
      "execution_count": null,
      "outputs": []
    },
    {
      "cell_type": "code",
      "source": [
        "data.info()"
      ],
      "metadata": {
        "id": "XIz_lnfhhtp7"
      },
      "execution_count": null,
      "outputs": []
    },
    {
      "cell_type": "code",
      "source": [
        "data.head(\n",
        ")"
      ],
      "metadata": {
        "id": "8nRsecd1hytz"
      },
      "execution_count": null,
      "outputs": []
    },
    {
      "cell_type": "code",
      "source": [
        "data.sample(5)"
      ],
      "metadata": {
        "id": "uODODyGkhzkK"
      },
      "execution_count": null,
      "outputs": []
    },
    {
      "cell_type": "markdown",
      "source": [
        "# Explorasi Data"
      ],
      "metadata": {
        "id": "CYt3VFoYh6Ua"
      }
    },
    {
      "cell_type": "code",
      "source": [
        "numerical = ['Pregnancies','Glucose','BloodPressure','SkinThickness','Insulin','BMI','DiabetesPedigreeFunction','Age','Outcome']\n",
        "data[numerical].describe()"
      ],
      "metadata": {
        "id": "bynRCERhiByL"
      },
      "execution_count": null,
      "outputs": []
    },
    {
      "cell_type": "code",
      "source": [
        "sns.countplot(data=data,\n",
        "              x='Outcome',\n",
        "              hue='Glucose')"
      ],
      "metadata": {
        "id": "3LVOhdPqiGDW"
      },
      "execution_count": null,
      "outputs": []
    },
    {
      "cell_type": "markdown",
      "source": [
        "Terlihat bahwa pada outcome (1) yaitu orang yg diabetes memiliki glucosa yang tinggi."
      ],
      "metadata": {
        "id": "amqbpypBiMZV"
      }
    },
    {
      "cell_type": "code",
      "source": [
        "correlation = data.corr()\n",
        "sns.heatmap(correlation, annot=True, fmt=' .2f')"
      ],
      "metadata": {
        "id": "VZMHlLIIiOiM"
      },
      "execution_count": null,
      "outputs": []
    },
    {
      "cell_type": "code",
      "source": [
        "sns.pairplot(data, hue='Outcome')"
      ],
      "metadata": {
        "id": "0IFIsbSdiUOV"
      },
      "execution_count": null,
      "outputs": []
    },
    {
      "cell_type": "markdown",
      "source": [
        "Terlihat bahwa pada Glucosa outcome(1) cenderung lebih ke kanan, jadi semakin tinggi glucosa memiliki kecenderungan mengalami diabetes."
      ],
      "metadata": {
        "id": "4evo2CdciYxB"
      }
    },
    {
      "cell_type": "markdown",
      "source": [
        "# Spark Data Frame"
      ],
      "metadata": {
        "id": "_cJ-ndxKidHs"
      }
    },
    {
      "cell_type": "code",
      "source": [
        "from pyspark.sql import SparkSession\n",
        "\n",
        "# Initialize Spark session\n",
        "spark = SparkSession.builder \\\n",
        "    .appName(\"assignment_day6\") \\\n",
        "    .getOrCreate()\n",
        "\n",
        "# Read the CSV file\n",
        "df = spark.read.csv(\"/content/drive/MyDrive/Data Enginner/Day 6/diabetes.csv\", header=True, inferSchema=True)\n",
        "\n",
        "# Print the schema\n",
        "df.printSchema()"
      ],
      "metadata": {
        "id": "Jp-kRQ5Viiph"
      },
      "execution_count": null,
      "outputs": []
    },
    {
      "cell_type": "code",
      "source": [
        "df.show()"
      ],
      "metadata": {
        "id": "G6FuFsHdikoT"
      },
      "execution_count": null,
      "outputs": []
    },
    {
      "cell_type": "code",
      "source": [
        "filtered_df = df.filter(df['Glucose'] > 100)\n",
        "filtered_df.show()"
      ],
      "metadata": {
        "id": "XY2ZPLn0inv4"
      },
      "execution_count": null,
      "outputs": []
    },
    {
      "cell_type": "code",
      "source": [
        "filtered_df = df.where((df['Glucose'] > 100) & (df['Outcome'] == 1))\n",
        "filtered_df.show()"
      ],
      "metadata": {
        "id": "6PBsOgQBip4D"
      },
      "execution_count": null,
      "outputs": []
    },
    {
      "cell_type": "code",
      "source": [
        "# Pilih kolom yang diinginkan\n",
        "selected_df = filtered_df.select(\"Age\", \"Glucose\", \"Outcome\")\n",
        "\n",
        "# Tampilkan beberapa baris dari DataFrame yang telah dipilih kolomnya\n",
        "selected_df.show()"
      ],
      "metadata": {
        "id": "LM_Gc92yircd"
      },
      "execution_count": null,
      "outputs": []
    },
    {
      "cell_type": "code",
      "source": [
        "from pyspark.sql import SparkSession\n",
        "from pyspark.sql.functions import col, count\n",
        "# Pilih kolom yang diperlukan\n",
        "selected_df = filtered_df.select(\"Age\", \"Outcome\")\n",
        "\n",
        "# Filter hanya untuk yang terkena diabetes (Outcome == 1)\n",
        "diabetes_df = selected_df.filter(col(\"Outcome\") == 1)\n",
        "\n",
        "# Group by Age dan hitung jumlah kasus diabetes untuk setiap umur\n",
        "result_df = diabetes_df.groupBy(\"Age\").agg(count(\"Outcome\").alias(\"Count\")).orderBy(col(\"Count\").desc())\n",
        "\n",
        "# Tampilkan beberapa baris dari DataFrame hasil\n",
        "result_df.show()"
      ],
      "metadata": {
        "id": "YcF2PgmTitX2"
      },
      "execution_count": null,
      "outputs": []
    },
    {
      "cell_type": "markdown",
      "source": [
        "Terlihat bahwa umur dibawah 30 tahun lebih banyak terkena diabetes"
      ],
      "metadata": {
        "id": "Q9_fzjyLiwn9"
      }
    },
    {
      "cell_type": "markdown",
      "source": [
        "# Visualisasi"
      ],
      "metadata": {
        "id": "cCOKZ6EAi42K"
      }
    },
    {
      "cell_type": "code",
      "source": [
        "import matplotlib.pyplot as plt\n",
        "diabet_pd=(\n",
        "    result_df\n",
        "    .toPandas()\n",
        ")"
      ],
      "metadata": {
        "id": "t7CSzFF5i8JU"
      },
      "execution_count": null,
      "outputs": []
    },
    {
      "cell_type": "code",
      "source": [
        "diabet_pd.describe()"
      ],
      "metadata": {
        "id": "6HLVmw7Ai_pI"
      },
      "execution_count": null,
      "outputs": []
    },
    {
      "cell_type": "code",
      "source": [
        "diabet_top = diabet_pd.head(5)"
      ],
      "metadata": {
        "id": "JLisvnXrjBhG"
      },
      "execution_count": null,
      "outputs": []
    },
    {
      "cell_type": "code",
      "source": [
        "diabet_top.plot(x=\"Age\",y=\"Count\",kind=\"line\")\n",
        "plt.xlabel('Age')\n",
        "plt.ylabel('Count')\n",
        "plt.title('Count of Diabetes Cases by Age')\n",
        "plt.grid(True)\n",
        "plt.show()"
      ],
      "metadata": {
        "id": "APu_zVLNjDup"
      },
      "execution_count": null,
      "outputs": []
    },
    {
      "cell_type": "markdown",
      "source": [
        "Umur yang lebih tua tidak membuktikan sesorang memiliki gula yang tinggi dan terkena diabetes, terlihat bahwa umur dibawah 30tahun lebih banyak terkena diabetes."
      ],
      "metadata": {
        "id": "zUBhm-HsjFzF"
      }
    }
  ]
}